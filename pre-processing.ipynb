{
 "cells": [
  {
   "cell_type": "code",
   "execution_count": 5,
   "metadata": {},
   "outputs": [],
   "source": [
    "import pandas as pd\n",
    "import numpy as np\n",
    "import sklearn\n",
    "import spacy\n",
    "from sklearn.feature_extraction.text import CountVectorizer"
   ]
  },
  {
   "cell_type": "markdown",
   "metadata": {},
   "source": [
    "### Fill the nan value in csv, filtered the concerns without label or text, then extract the text and labels  and put them into a list."
   ]
  },
  {
   "cell_type": "code",
   "execution_count": 2,
   "metadata": {},
   "outputs": [
    {
     "name": "stdout",
     "output_type": "stream",
     "text": [
      "74260\n"
     ]
    }
   ],
   "source": [
    "filename = '~/data/patient_report/all_patient_data.csv'\n",
    "df = pd.read_csv(filename)\n",
    "df['Primary / secondary category'].fillna(' ',inplace=True)\n",
    "df['Full action description'].fillna(' ',inplace=True)\n",
    "df2 = df[df['Primary / secondary category'] != ' ']\n",
    "df2 = df2[df2['Full action description'] != ' ']\n",
    "print(len(df2))\n",
    "subject = df2['Action subject'].fillna(' ').to_list()\n",
    "full_text = df2['Full action description'].fillna(' ').to_list()\n",
    "label = df2['Primary / secondary category'].fillna(' ').to_list()\n",
    "solution = df2['Resolution response'].fillna(' ').to_list()"
   ]
  },
  {
   "cell_type": "markdown",
   "metadata": {},
   "source": [
    "### separate primary category and secondary category, because they were in the same cell of csv"
   ]
  },
  {
   "cell_type": "code",
   "execution_count": 3,
   "metadata": {},
   "outputs": [
    {
     "name": "stdout",
     "output_type": "stream",
     "text": [
      "74260\n",
      "['Access ' 'Delivery of care ' 'Environment ' 'Finance ']\n"
     ]
    }
   ],
   "source": [
    "from sklearn import preprocessing\n",
    "le = preprocessing.LabelEncoder()\n",
    "primary =[]\n",
    "secondary=[]\n",
    "for i in range(len(label)):\n",
    "    primary.append(label[i].split('-')[0])\n",
    "    secondary.append(label[i].split('-')[1])\n",
    "print(len(primary))\n",
    "le.fit(primary)\n",
    "print(le.classes_)"
   ]
  },
  {
   "cell_type": "markdown",
   "metadata": {},
   "source": [
    "### Romove all stop words and lematize each words"
   ]
  },
  {
   "cell_type": "code",
   "execution_count": null,
   "metadata": {},
   "outputs": [],
   "source": [
    "from tqdm import tqdm\n",
    "nlp=spacy.load('en')\n",
    "lemmatized_text = []\n",
    "for sent in tqdm(full_text):\n",
    "    lemmatized_sent = ''\n",
    "    for token in nlp(sent):\n",
    "        if not token.is_stop:\n",
    "            if token.lemma_ != '-PRON-':\n",
    "                lemmatized_sent+=token.lemma_ + ' '\n",
    "    lemmatized_text.append(lemmatized_sent)\n",
    "print(len(lemmatized_text))\n",
    "print(len(full_text))"
   ]
  },
  {
   "cell_type": "markdown",
   "metadata": {},
   "source": [
    "### save & load processed data"
   ]
  },
  {
   "cell_type": "code",
   "execution_count": null,
   "metadata": {},
   "outputs": [],
   "source": [
    "count=0\n",
    "for item in lemmatized_text:\n",
    "    des.writelines(item+'\\n')\n",
    "    count+=1\n",
    "print(count)\n",
    "des.close()"
   ]
  },
  {
   "cell_type": "code",
   "execution_count": null,
   "metadata": {},
   "outputs": [],
   "source": [
    "src_lines = open('lemmad_text').readlines()\n",
    "lemmatized_text2 = []\n",
    "for item in src_lines:\n",
    "    lemmatized_text2.append(item)\n",
    "print(len(lemmatized_text2))"
   ]
  },
  {
   "cell_type": "markdown",
   "metadata": {},
   "source": [
    "###  Use Vectorizer in sklearn to convert text to bag of words vectors, custom stop words were introduced here"
   ]
  },
  {
   "cell_type": "code",
   "execution_count": null,
   "metadata": {},
   "outputs": [],
   "source": [
    "import tools\n",
    "sw = tools.stop_word()\n",
    "Count_vectorizer =CountVectorizer(ngram_range=(1,2),min_df = 5,stop_words=sw,max_df = 0.1,token_pattern=r\"(?u)\\b[a-z]+\\b\")\n",
    "Count_vec = Count_vectorizer.fit_transform(lemmatized_text2)"
   ]
  }
 ],
 "metadata": {
  "kernelspec": {
   "display_name": "Python 3",
   "language": "python",
   "name": "python3"
  },
  "language_info": {
   "codemirror_mode": {
    "name": "ipython",
    "version": 3
   },
   "file_extension": ".py",
   "mimetype": "text/x-python",
   "name": "python",
   "nbconvert_exporter": "python",
   "pygments_lexer": "ipython3",
   "version": "3.5.2"
  }
 },
 "nbformat": 4,
 "nbformat_minor": 2
}
